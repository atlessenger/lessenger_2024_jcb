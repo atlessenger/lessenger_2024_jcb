{
 "cells": [
  {
   "cell_type": "markdown",
   "id": "cf61a0f1",
   "metadata": {},
   "source": [
    "# Segment nuclei and quantify ploidy\n",
    "\n",
    "## Workflow\n",
    "\n",
    "1. Segment nuclei with StarDist\n",
    "    - stardist works best when nuclei are nearly isometric, so \n",
    "    - upscale images in z by ~4x\n",
    "    - predict labels with StarDist model\n",
    "    - downscale predicted labels to original dimensions\n",
    "2. correct segmentations and quantify ploidy\n",
    "    - manually correct any bad intestine segmentations in napari\n",
    "    - with new label images, draw over intestine and pachytene nuclei to identify them\n",
    "    - quantify image statistics (including intensity) from all labels\n",
    "3. expand germline labels and re-quantify germline ploidy\n",
    "4. do further processing in R\n",
    "    - filter ROIs of interest\n",
    "    - background subtraction\n",
    "    - within-worm ploidy normalization\n",
    "    - plotting\n",
    "   \n",
    "*Several other, potentially, useful functions*\n",
    "\n",
    "- `skimage.segmentation.relabel_sequential` will renumber label images so that the numbers are as small as possible and sequential\n",
    "- `skimage.morphology.remove_small_objects` can filter out labels below a particular size threshold\n",
    "\n",
    "## 1. predict labels with StarDist\n",
    "\n",
    "### a. upscale images using `skimage.transform.resize`\n",
    "\n",
    "- use bilinear interpolation for images `order = 1`\n",
    "- use nearest neighbor interpolation for labels `order = 0` \n",
    "- when downscaling labels, also turn off antialiasing `anti_aliasing = False`\n",
    "\n",
    "Notes: Replicate 1 (full_images_V2) need to be upscaled 4X to become isotropic since they used a 0.6 um z-step, but replicate 2 (full_images_V2_R2) only need 2X upscaling since they used a 0.3 um z-step.)"
   ]
  },
  {
   "cell_type": "code",
   "execution_count": 1,
   "id": "9f264f4e",
   "metadata": {},
   "outputs": [],
   "source": [
    "from pathlib import Path\n",
    "import numpy as np\n",
    "import pandas as pd\n",
    "from tifffile import imread, imwrite\n",
    "from skimage.transform import resize\n",
    "\n",
    "data_dir = Path('full_images_V2_R2')\n",
    "orig_images_dir = data_dir/'original_tifs'\n",
    "upsc_images_dir = data_dir/'upscaled_tifs'\n",
    "orig_labels_dir = data_dir/'original_labels'\n",
    "upsc_labels_dir = data_dir/'upscaled_labels'\n",
    "unup_labels_dir = data_dir/'un_upscaled_labels'\n",
    "csv_dir = data_dir/'csvs'\n",
    "\n",
    "image_path_list = [file for file in orig_images_dir.iterdir() if file.suffix == '.tif']\n",
    "image_path_list.sort()\n",
    "\n",
    "def concat_csvs(directory):\n",
    "    # concatenates all csvs in directory. returns concatenated df\n",
    "    df_list = []\n",
    "    file_list = [file for file in directory.iterdir() if file.suffix == '.csv']\n",
    "    file_list.sort()\n",
    "    \n",
    "    for file in file_list:\n",
    "        df = pd.read_csv(file, index_col = 0)\n",
    "        df_list.append(df)\n",
    "        \n",
    "    df_concat = pd.concat(df_list, axis = 0, ignore_index = False).reset_index(drop = True)\n",
    "    return df_concat"
   ]
  },
  {
   "cell_type": "code",
   "execution_count": 2,
   "id": "c5af7784",
   "metadata": {},
   "outputs": [
    {
     "name": "stdout",
     "output_type": "stream",
     "text": [
      "upscaling 001-bmin_F1\n",
      "upscaling 002-bmin_F1\n",
      "upscaling 003-bplu_F1\n",
      "upscaling 004-bplu_F1\n",
      "upscaling 005-bplu_F1\n",
      "upscaling 006-bplu_F1\n",
      "upscaling 007-bmin_F1\n",
      "upscaling 008-bplu_F1\n",
      "upscaling 009-bplu_F1\n",
      "upscaling 010-bplu_F1\n",
      "upscaling 011-bmin_F1\n",
      "upscaling 012-bmin_F1\n",
      "upscaling 013-bmin_F1\n",
      "upscaling 014-bplu_F1\n",
      "upscaling 015-bmin_F1\n",
      "upscaling 016-bmin_F1\n",
      "upscaling 017-bplu_F1\n",
      "upscaling 101-bmin_F1\n",
      "upscaling 102-bplu_F1\n",
      "upscaling 103-bplu_F1\n",
      "upscaling 104-bmin_F1\n",
      "upscaling 105-bplu_F1\n",
      "upscaling 106-bmin_F1\n",
      "upscaling 107-bmin_F1\n",
      "upscaling 108-bplu_F1\n",
      "upscaling 109-bmin_F1\n",
      "upscaling 110-bplu_F1\n",
      "upscaling 111-bmin_F1\n",
      "upscaling 112-bplu_F1\n",
      "upscaling 113-bplu_F1\n",
      "upscaling 114-bplu_F1\n",
      "upscaling 115-bmin_F1\n",
      "upscaling Capture 10_bminF2_01\n",
      "upscaling Capture 1_bminF2_01\n",
      "upscaling Capture 1_bminF2_02\n",
      "upscaling Capture 1_bminF2_03\n",
      "upscaling Capture 2_bminF2_01\n",
      "upscaling Capture 2_bminF2_02\n",
      "upscaling Capture 2_bminF2_03\n",
      "upscaling Capture 3_bminF2_01\n",
      "upscaling Capture 3_bminF2_02\n",
      "upscaling Capture 3_bminF2_03\n",
      "upscaling Capture 4_bminF2_01\n",
      "upscaling Capture 4_bminF2_02\n",
      "upscaling Capture 4_bminF2_03\n",
      "upscaling Capture 5_bminF2_01\n",
      "upscaling Capture 5_bminF2_02\n",
      "upscaling Capture 5_bminF2_03\n",
      "upscaling Capture 6_bminF2_01\n",
      "upscaling Capture 6_bminF2_02\n",
      "upscaling Capture 7_bminF2_01\n",
      "upscaling Capture 8_bminF2_01\n",
      "upscaling Capture 9_bminF2_01\n"
     ]
    }
   ],
   "source": [
    "for image_path in image_path_list:\n",
    "\n",
    "    image_id = image_path.stem\n",
    "    upsc_im_path = upsc_images_dir/f'{image_id}_upz.tif'\n",
    "    \n",
    "    if upsc_im_path.is_file():\n",
    "        print(f'{image_id} already upscaled')\n",
    "        continue\n",
    "    \n",
    "    print(f'upscaling {image_id}')\n",
    "#     orig_im_path = orig_images_dir/f'{image_id}.tif'\n",
    "    orig_im = imread(image_path)\n",
    "\n",
    "    z,y,x = orig_im.shape \n",
    "    scaled_shape = (2*z, y, x) #R1 should be 4*z, R2 should be 2*z\n",
    "    \n",
    "    upsc_im = resize(orig_im, scaled_shape, order = 1, preserve_range = True)\n",
    "    imwrite(upsc_im_path, upsc_im)"
   ]
  },
  {
   "cell_type": "markdown",
   "id": "2d2f5475",
   "metadata": {},
   "source": [
    "### b. predict labels with StarDist"
   ]
  },
  {
   "cell_type": "code",
   "execution_count": 2,
   "id": "6b2e9460",
   "metadata": {},
   "outputs": [
    {
     "name": "stdout",
     "output_type": "stream",
     "text": [
      "['001-bmin_F1_upz', '002-bmin_F1_upz', '003-bplu_F1_upz', '004-bplu_F1_upz', '005-bplu_F1_upz', '006-bplu_F1_upz', '007-bmin_F1_upz', '008-bplu_F1_upz', '009-bplu_F1_upz', '010-bplu_F1_upz', '011-bmin_F1_upz', '012-bmin_F1_upz', '013-bmin_F1_upz', '014-bplu_F1_upz', '015-bmin_F1_upz', '016-bmin_F1_upz', '017-bplu_F1_upz', '101-bmin_F1_upz', '102-bplu_F1_upz', '103-bplu_F1_upz', '104-bmin_F1_upz', '105-bplu_F1_upz', '106-bmin_F1_upz', '107-bmin_F1_upz', '108-bplu_F1_upz', '109-bmin_F1_upz', '110-bplu_F1_upz', '111-bmin_F1_upz', '112-bplu_F1_upz', '113-bplu_F1_upz', '114-bplu_F1_upz', '115-bmin_F1_upz', 'Capture 10_bminF2_01_upz', 'Capture 1_bminF2_01_upz', 'Capture 1_bminF2_02_upz', 'Capture 1_bminF2_03_upz', 'Capture 2_bminF2_01_upz', 'Capture 2_bminF2_02_upz', 'Capture 2_bminF2_03_upz', 'Capture 3_bminF2_01_upz', 'Capture 3_bminF2_02_upz', 'Capture 3_bminF2_03_upz', 'Capture 4_bminF2_01_upz', 'Capture 4_bminF2_02_upz', 'Capture 4_bminF2_03_upz', 'Capture 5_bminF2_01_upz', 'Capture 5_bminF2_02_upz', 'Capture 5_bminF2_03_upz', 'Capture 6_bminF2_01_upz', 'Capture 6_bminF2_02_upz', 'Capture 7_bminF2_01_upz', 'Capture 8_bminF2_01_upz', 'Capture 9_bminF2_01_upz']\n"
     ]
    },
    {
     "ename": "MemoryError",
     "evalue": "Unable to allocate 3.19 GiB for an array with shape (427819008,) and data type float64",
     "output_type": "error",
     "traceback": [
      "\u001b[1;31m---------------------------------------------------------------------------\u001b[0m",
      "\u001b[1;31mMemoryError\u001b[0m                               Traceback (most recent call last)",
      "\u001b[1;32m~\\AppData\\Local\\Temp\\ipykernel_10132\\1760988458.py\u001b[0m in \u001b[0;36m?\u001b[1;34m()\u001b[0m\n\u001b[0;32m     14\u001b[0m \u001b[0mfiles\u001b[0m \u001b[1;33m=\u001b[0m \u001b[1;33m[\u001b[0m\u001b[0mf\u001b[0m \u001b[1;32mfor\u001b[0m \u001b[0mf\u001b[0m \u001b[1;32min\u001b[0m \u001b[0mfiles\u001b[0m \u001b[1;32mif\u001b[0m \u001b[1;32mnot\u001b[0m \u001b[1;33m(\u001b[0m\u001b[0mupsc_labels_dir\u001b[0m\u001b[1;33m/\u001b[0m\u001b[1;34mf'{Path(f).stem}_labels.tif'\u001b[0m\u001b[1;33m)\u001b[0m\u001b[1;33m.\u001b[0m\u001b[0mis_file\u001b[0m\u001b[1;33m(\u001b[0m\u001b[1;33m)\u001b[0m\u001b[1;33m]\u001b[0m\u001b[1;33m\u001b[0m\u001b[1;33m\u001b[0m\u001b[0m\n\u001b[0;32m     15\u001b[0m \u001b[0mfile_stems\u001b[0m \u001b[1;33m=\u001b[0m \u001b[1;33m[\u001b[0m\u001b[0mPath\u001b[0m\u001b[1;33m(\u001b[0m\u001b[0mf\u001b[0m\u001b[1;33m)\u001b[0m\u001b[1;33m.\u001b[0m\u001b[0mstem\u001b[0m \u001b[1;32mfor\u001b[0m \u001b[0mf\u001b[0m \u001b[1;32min\u001b[0m \u001b[0mfiles\u001b[0m\u001b[1;33m]\u001b[0m\u001b[1;33m\u001b[0m\u001b[1;33m\u001b[0m\u001b[0m\n\u001b[0;32m     16\u001b[0m \u001b[0mprint\u001b[0m\u001b[1;33m(\u001b[0m\u001b[0mfile_stems\u001b[0m\u001b[1;33m)\u001b[0m\u001b[1;33m\u001b[0m\u001b[1;33m\u001b[0m\u001b[0m\n\u001b[0;32m     17\u001b[0m \u001b[1;33m\u001b[0m\u001b[0m\n\u001b[1;32m---> 18\u001b[1;33m \u001b[0mX\u001b[0m \u001b[1;33m=\u001b[0m \u001b[0mlist\u001b[0m\u001b[1;33m(\u001b[0m\u001b[0mmap\u001b[0m\u001b[1;33m(\u001b[0m\u001b[0mimread\u001b[0m\u001b[1;33m,\u001b[0m\u001b[0mfiles\u001b[0m\u001b[1;33m)\u001b[0m\u001b[1;33m)\u001b[0m\u001b[1;33m\u001b[0m\u001b[1;33m\u001b[0m\u001b[0m\n\u001b[0m\u001b[0;32m     19\u001b[0m \u001b[1;33m\u001b[0m\u001b[0m\n\u001b[0;32m     20\u001b[0m \u001b[0mn_channel\u001b[0m \u001b[1;33m=\u001b[0m \u001b[1;36m1\u001b[0m \u001b[1;32mif\u001b[0m \u001b[0mX\u001b[0m\u001b[1;33m[\u001b[0m\u001b[1;36m0\u001b[0m\u001b[1;33m]\u001b[0m\u001b[1;33m.\u001b[0m\u001b[0mndim\u001b[0m \u001b[1;33m==\u001b[0m \u001b[1;36m3\u001b[0m \u001b[1;32melse\u001b[0m \u001b[0mX\u001b[0m\u001b[1;33m[\u001b[0m\u001b[1;36m0\u001b[0m\u001b[1;33m]\u001b[0m\u001b[1;33m.\u001b[0m\u001b[0mshape\u001b[0m\u001b[1;33m[\u001b[0m\u001b[1;33m-\u001b[0m\u001b[1;36m1\u001b[0m\u001b[1;33m]\u001b[0m\u001b[1;33m\u001b[0m\u001b[1;33m\u001b[0m\u001b[0m\n\u001b[0;32m     21\u001b[0m \u001b[0maxis_norm\u001b[0m \u001b[1;33m=\u001b[0m \u001b[1;33m(\u001b[0m\u001b[1;36m0\u001b[0m\u001b[1;33m,\u001b[0m\u001b[1;36m1\u001b[0m\u001b[1;33m,\u001b[0m\u001b[1;36m2\u001b[0m\u001b[1;33m)\u001b[0m   \u001b[1;31m# normalize channels independently\u001b[0m\u001b[1;33m\u001b[0m\u001b[1;33m\u001b[0m\u001b[0m\n",
      "\u001b[1;32m~\\.conda\\envs\\stardist\\lib\\site-packages\\tifffile\\tifffile.py\u001b[0m in \u001b[0;36m?\u001b[1;34m(files, selection, aszarr, key, series, level, squeeze, maxworkers, buffersize, mode, name, offset, size, pattern, axesorder, categories, imread, sort, container, chunkshape, dtype, axestiled, ioworkers, chunkmode, fillvalue, zattrs, multiscales, omexml, out, out_inplace, _multifile, _useframes, **kwargs)\u001b[0m\n\u001b[0;32m   1102\u001b[0m                     )\n\u001b[0;32m   1103\u001b[0m                     \u001b[1;32mif\u001b[0m \u001b[0mselection\u001b[0m \u001b[1;32mis\u001b[0m \u001b[1;32mNone\u001b[0m\u001b[1;33m:\u001b[0m\u001b[1;33m\u001b[0m\u001b[1;33m\u001b[0m\u001b[0m\n\u001b[0;32m   1104\u001b[0m                         \u001b[1;32mreturn\u001b[0m \u001b[0mstore\u001b[0m\u001b[1;33m\u001b[0m\u001b[1;33m\u001b[0m\u001b[0m\n\u001b[0;32m   1105\u001b[0m                     \u001b[1;32mreturn\u001b[0m \u001b[0mzarr_selection\u001b[0m\u001b[1;33m(\u001b[0m\u001b[0mstore\u001b[0m\u001b[1;33m,\u001b[0m \u001b[0mselection\u001b[0m\u001b[1;33m,\u001b[0m \u001b[0mout\u001b[0m\u001b[1;33m=\u001b[0m\u001b[0mout\u001b[0m\u001b[1;33m)\u001b[0m\u001b[1;33m\u001b[0m\u001b[1;33m\u001b[0m\u001b[0m\n\u001b[1;32m-> 1106\u001b[1;33m                 return tif.asarray(\n\u001b[0m\u001b[0;32m   1107\u001b[0m                     \u001b[0mkey\u001b[0m\u001b[1;33m=\u001b[0m\u001b[0mkey\u001b[0m\u001b[1;33m,\u001b[0m\u001b[1;33m\u001b[0m\u001b[1;33m\u001b[0m\u001b[0m\n\u001b[0;32m   1108\u001b[0m                     \u001b[0mseries\u001b[0m\u001b[1;33m=\u001b[0m\u001b[0mseries\u001b[0m\u001b[1;33m,\u001b[0m\u001b[1;33m\u001b[0m\u001b[1;33m\u001b[0m\u001b[0m\n\u001b[0;32m   1109\u001b[0m                     \u001b[0mlevel\u001b[0m\u001b[1;33m=\u001b[0m\u001b[0mlevel\u001b[0m\u001b[1;33m,\u001b[0m\u001b[1;33m\u001b[0m\u001b[1;33m\u001b[0m\u001b[0m\n",
      "\u001b[1;32m~\\.conda\\envs\\stardist\\lib\\site-packages\\tifffile\\tifffile.py\u001b[0m in \u001b[0;36m?\u001b[1;34m(self, key, series, level, squeeze, out, maxworkers, buffersize)\u001b[0m\n\u001b[0;32m   4330\u001b[0m                 \u001b[1;31m# read into output\u001b[0m\u001b[1;33m\u001b[0m\u001b[1;33m\u001b[0m\u001b[0m\n\u001b[0;32m   4331\u001b[0m                 \u001b[0mshape\u001b[0m \u001b[1;33m=\u001b[0m \u001b[0mseries\u001b[0m\u001b[1;33m.\u001b[0m\u001b[0mget_shape\u001b[0m\u001b[1;33m(\u001b[0m\u001b[0msqueeze\u001b[0m\u001b[1;33m)\u001b[0m\u001b[1;33m\u001b[0m\u001b[1;33m\u001b[0m\u001b[0m\n\u001b[0;32m   4332\u001b[0m                 \u001b[1;32mif\u001b[0m \u001b[0mout\u001b[0m \u001b[1;32mis\u001b[0m \u001b[1;32mnot\u001b[0m \u001b[1;32mNone\u001b[0m\u001b[1;33m:\u001b[0m\u001b[1;33m\u001b[0m\u001b[1;33m\u001b[0m\u001b[0m\n\u001b[0;32m   4333\u001b[0m                     \u001b[0mout\u001b[0m \u001b[1;33m=\u001b[0m \u001b[0mcreate_output\u001b[0m\u001b[1;33m(\u001b[0m\u001b[0mout\u001b[0m\u001b[1;33m,\u001b[0m \u001b[0mshape\u001b[0m\u001b[1;33m,\u001b[0m \u001b[0mseries\u001b[0m\u001b[1;33m.\u001b[0m\u001b[0mdtype\u001b[0m\u001b[1;33m)\u001b[0m\u001b[1;33m\u001b[0m\u001b[1;33m\u001b[0m\u001b[0m\n\u001b[1;32m-> 4334\u001b[1;33m                 result = self.filehandle.read_array(\n\u001b[0m\u001b[0;32m   4335\u001b[0m                     \u001b[0mtypecode\u001b[0m\u001b[1;33m,\u001b[0m\u001b[1;33m\u001b[0m\u001b[1;33m\u001b[0m\u001b[0m\n\u001b[0;32m   4336\u001b[0m                     \u001b[0mseries\u001b[0m\u001b[1;33m.\u001b[0m\u001b[0msize\u001b[0m\u001b[1;33m,\u001b[0m\u001b[1;33m\u001b[0m\u001b[1;33m\u001b[0m\u001b[0m\n\u001b[0;32m   4337\u001b[0m                     \u001b[0mseries\u001b[0m\u001b[1;33m.\u001b[0m\u001b[0mdataoffset\u001b[0m\u001b[1;33m,\u001b[0m\u001b[1;33m\u001b[0m\u001b[1;33m\u001b[0m\u001b[0m\n",
      "\u001b[1;32m~\\.conda\\envs\\stardist\\lib\\site-packages\\tifffile\\tifffile.py\u001b[0m in \u001b[0;36m?\u001b[1;34m(self, dtype, count, offset, out)\u001b[0m\n\u001b[0;32m  14492\u001b[0m             \u001b[0mcount\u001b[0m \u001b[1;33m=\u001b[0m \u001b[0mnbytes\u001b[0m \u001b[1;33m//\u001b[0m \u001b[0mdtype\u001b[0m\u001b[1;33m.\u001b[0m\u001b[0mitemsize\u001b[0m\u001b[1;33m\u001b[0m\u001b[1;33m\u001b[0m\u001b[0m\n\u001b[0;32m  14493\u001b[0m         \u001b[1;32melse\u001b[0m\u001b[1;33m:\u001b[0m\u001b[1;33m\u001b[0m\u001b[1;33m\u001b[0m\u001b[0m\n\u001b[0;32m  14494\u001b[0m             \u001b[0mnbytes\u001b[0m \u001b[1;33m=\u001b[0m \u001b[0mcount\u001b[0m \u001b[1;33m*\u001b[0m \u001b[0mdtype\u001b[0m\u001b[1;33m.\u001b[0m\u001b[0mitemsize\u001b[0m\u001b[1;33m\u001b[0m\u001b[1;33m\u001b[0m\u001b[0m\n\u001b[0;32m  14495\u001b[0m \u001b[1;33m\u001b[0m\u001b[0m\n\u001b[1;32m> 14496\u001b[1;33m         \u001b[0mresult\u001b[0m \u001b[1;33m=\u001b[0m \u001b[0mnumpy\u001b[0m\u001b[1;33m.\u001b[0m\u001b[0mempty\u001b[0m\u001b[1;33m(\u001b[0m\u001b[0mcount\u001b[0m\u001b[1;33m,\u001b[0m \u001b[0mdtype\u001b[0m\u001b[1;33m)\u001b[0m \u001b[1;32mif\u001b[0m \u001b[0mout\u001b[0m \u001b[1;32mis\u001b[0m \u001b[1;32mNone\u001b[0m \u001b[1;32melse\u001b[0m \u001b[0mout\u001b[0m\u001b[1;33m\u001b[0m\u001b[1;33m\u001b[0m\u001b[0m\n\u001b[0m\u001b[0;32m  14497\u001b[0m \u001b[1;33m\u001b[0m\u001b[0m\n\u001b[0;32m  14498\u001b[0m         \u001b[1;32mif\u001b[0m \u001b[0mresult\u001b[0m\u001b[1;33m.\u001b[0m\u001b[0mnbytes\u001b[0m \u001b[1;33m!=\u001b[0m \u001b[0mnbytes\u001b[0m\u001b[1;33m:\u001b[0m\u001b[1;33m\u001b[0m\u001b[1;33m\u001b[0m\u001b[0m\n\u001b[0;32m  14499\u001b[0m             \u001b[1;32mraise\u001b[0m \u001b[0mValueError\u001b[0m\u001b[1;33m(\u001b[0m\u001b[1;34m'size mismatch'\u001b[0m\u001b[1;33m)\u001b[0m\u001b[1;33m\u001b[0m\u001b[1;33m\u001b[0m\u001b[0m\n",
      "\u001b[1;31mMemoryError\u001b[0m: Unable to allocate 3.19 GiB for an array with shape (427819008,) and data type float64"
     ]
    }
   ],
   "source": [
    "from __future__ import print_function, unicode_literals, absolute_import, division\n",
    "import sys\n",
    "import numpy as np\n",
    "import pickle\n",
    "\n",
    "from glob import glob\n",
    "from tifffile import imread\n",
    "from csbdeep.utils import Path, normalize\n",
    "from csbdeep.io import save_tiff_imagej_compatible\n",
    "\n",
    "from stardist.models import StarDist3D\n",
    "\n",
    "files = sorted(glob('full_images_V2_R2/upscaled_tifs/*.tif'))\n",
    "files = [f for f in files if not (upsc_labels_dir/f'{Path(f).stem}_labels.tif').is_file()]    \n",
    "file_stems = [Path(f).stem for f in files]\n",
    "print(file_stems)\n",
    "\n",
    "X = list(map(imread,files))\n",
    "\n",
    "n_channel = 1 if X[0].ndim == 3 else X[0].shape[-1]\n",
    "axis_norm = (0,1,2)   # normalize channels independently\n",
    "\n",
    "model = StarDist3D(None, name='stardist_V2_isotropic', basedir='models_V2')\n",
    "\n",
    "for i in range(len(X)):\n",
    "    image_normalized = normalize(X[i], 1,99.8, axis=axis_norm)\n",
    "\n",
    "#     d,h,w = image_normalized.shape\n",
    "    n_tiles = model._guess_n_tiles(image_normalized)\n",
    "\n",
    "    labels, details = model.predict_instances(image_normalized, axes='ZYX', n_tiles=n_tiles)\n",
    "    \n",
    "    save_labels_path = upsc_labels_dir/f'{file_stems[i]}_labels.tif'\n",
    "#     save_labels_path = os.path.join('full_images_V2/upscaled_labels', file_stems[i] + '_labels.tif')\n",
    "    save_tiff_imagej_compatible(save_labels_path, labels, axes='ZYX')\n",
    "    print(f\"saved labels at: {save_labels_path}\")\n",
    "    \n",
    "    save_details_path = upsc_labels_dir/f'{file_stems[i]}_details.pkl'\n",
    "#     save_details_path = os.path.join('full_images_V2/upscaled_labels', file_stems[i] + '_details.pkl')\n",
    "    with open(save_details_path, 'wb') as f:\n",
    "        pickle.dump(details, f)"
   ]
  },
  {
   "cell_type": "code",
   "execution_count": 6,
   "id": "dd4cab45",
   "metadata": {},
   "outputs": [
    {
     "name": "stdout",
     "output_type": "stream",
     "text": [
      "['001-bmin_F1_upz', '002-bmin_F1_upz', '003-bplu_F1_upz', '004-bplu_F1_upz', '005-bplu_F1_upz', '006-bplu_F1_upz', '007-bmin_F1_upz', '008-bplu_F1_upz', '009-bplu_F1_upz', '010-bplu_F1_upz', '011-bmin_F1_upz', '012-bmin_F1_upz', '013-bmin_F1_upz', '014-bplu_F1_upz', '015-bmin_F1_upz', '016-bmin_F1_upz', '017-bplu_F1_upz', '101-bmin_F1_upz', '102-bplu_F1_upz', '103-bplu_F1_upz', '104-bmin_F1_upz', '105-bplu_F1_upz', '106-bmin_F1_upz', '107-bmin_F1_upz', '108-bplu_F1_upz', '109-bmin_F1_upz', '110-bplu_F1_upz', '111-bmin_F1_upz', '112-bplu_F1_upz', '113-bplu_F1_upz', '114-bplu_F1_upz', '115-bmin_F1_upz', 'Capture 10_bminF2_01_upz', 'Capture 1_bminF2_01_upz', 'Capture 1_bminF2_02_upz', 'Capture 1_bminF2_03_upz', 'Capture 2_bminF2_01_upz', 'Capture 2_bminF2_02_upz', 'Capture 2_bminF2_03_upz', 'Capture 3_bminF2_01_upz', 'Capture 3_bminF2_02_upz', 'Capture 3_bminF2_03_upz', 'Capture 4_bminF2_01_upz', 'Capture 4_bminF2_02_upz', 'Capture 4_bminF2_03_upz', 'Capture 5_bminF2_01_upz', 'Capture 5_bminF2_02_upz', 'Capture 5_bminF2_03_upz', 'Capture 6_bminF2_01_upz', 'Capture 6_bminF2_02_upz', 'Capture 7_bminF2_01_upz', 'Capture 8_bminF2_01_upz', 'Capture 9_bminF2_01_upz']\n",
      "Loading network weights from 'weights_best.h5'.\n",
      "Loading thresholds from 'thresholds.json'.\n",
      "Using default values: prob_thresh=0.443706, nms_thresh=0.3.\n"
     ]
    },
    {
     "name": "stderr",
     "output_type": "stream",
     "text": [
      "100%|████████████████████████████████████████████████████████████████████████████████| 338/338 [02:35<00:00,  2.18it/s]\n",
      "__init__.py (43): Converting data type from 'int32' to ImageJ-compatible 'int16'.\n"
     ]
    },
    {
     "name": "stdout",
     "output_type": "stream",
     "text": [
      "saved labels at: full_images_V2_R2\\upscaled_labels\\001-bmin_F1_upz_labels.tif\n"
     ]
    },
    {
     "name": "stderr",
     "output_type": "stream",
     "text": [
      "100%|████████████████████████████████████████████████████████████████████████████████| 338/338 [02:14<00:00,  2.52it/s]\n"
     ]
    },
    {
     "name": "stdout",
     "output_type": "stream",
     "text": [
      "saved labels at: full_images_V2_R2\\upscaled_labels\\002-bmin_F1_upz_labels.tif\n"
     ]
    },
    {
     "name": "stderr",
     "output_type": "stream",
     "text": [
      "100%|████████████████████████████████████████████████████████████████████████████████| 338/338 [02:12<00:00,  2.55it/s]\n"
     ]
    },
    {
     "name": "stdout",
     "output_type": "stream",
     "text": [
      "saved labels at: full_images_V2_R2\\upscaled_labels\\003-bplu_F1_upz_labels.tif\n"
     ]
    },
    {
     "name": "stderr",
     "output_type": "stream",
     "text": [
      "100%|████████████████████████████████████████████████████████████████████████████████| 338/338 [02:13<00:00,  2.54it/s]\n"
     ]
    },
    {
     "name": "stdout",
     "output_type": "stream",
     "text": [
      "saved labels at: full_images_V2_R2\\upscaled_labels\\004-bplu_F1_upz_labels.tif\n"
     ]
    },
    {
     "name": "stderr",
     "output_type": "stream",
     "text": [
      "100%|████████████████████████████████████████████████████████████████████████████████| 338/338 [02:12<00:00,  2.55it/s]\n"
     ]
    },
    {
     "name": "stdout",
     "output_type": "stream",
     "text": [
      "saved labels at: full_images_V2_R2\\upscaled_labels\\005-bplu_F1_upz_labels.tif\n"
     ]
    },
    {
     "name": "stderr",
     "output_type": "stream",
     "text": [
      "100%|████████████████████████████████████████████████████████████████████████████████| 338/338 [02:12<00:00,  2.56it/s]\n"
     ]
    },
    {
     "name": "stdout",
     "output_type": "stream",
     "text": [
      "saved labels at: full_images_V2_R2\\upscaled_labels\\006-bplu_F1_upz_labels.tif\n"
     ]
    },
    {
     "name": "stderr",
     "output_type": "stream",
     "text": [
      "100%|████████████████████████████████████████████████████████████████████████████████| 338/338 [02:12<00:00,  2.55it/s]\n"
     ]
    },
    {
     "name": "stdout",
     "output_type": "stream",
     "text": [
      "saved labels at: full_images_V2_R2\\upscaled_labels\\007-bmin_F1_upz_labels.tif\n"
     ]
    },
    {
     "name": "stderr",
     "output_type": "stream",
     "text": [
      "100%|████████████████████████████████████████████████████████████████████████████████| 338/338 [02:11<00:00,  2.57it/s]\n"
     ]
    },
    {
     "name": "stdout",
     "output_type": "stream",
     "text": [
      "saved labels at: full_images_V2_R2\\upscaled_labels\\008-bplu_F1_upz_labels.tif\n"
     ]
    },
    {
     "name": "stderr",
     "output_type": "stream",
     "text": [
      "100%|████████████████████████████████████████████████████████████████████████████████| 338/338 [02:12<00:00,  2.55it/s]\n"
     ]
    },
    {
     "name": "stdout",
     "output_type": "stream",
     "text": [
      "saved labels at: full_images_V2_R2\\upscaled_labels\\009-bplu_F1_upz_labels.tif\n"
     ]
    },
    {
     "name": "stderr",
     "output_type": "stream",
     "text": [
      "100%|████████████████████████████████████████████████████████████████████████████████| 338/338 [02:12<00:00,  2.56it/s]\n"
     ]
    },
    {
     "name": "stdout",
     "output_type": "stream",
     "text": [
      "saved labels at: full_images_V2_R2\\upscaled_labels\\010-bplu_F1_upz_labels.tif\n"
     ]
    },
    {
     "name": "stderr",
     "output_type": "stream",
     "text": [
      "100%|████████████████████████████████████████████████████████████████████████████████| 338/338 [02:11<00:00,  2.57it/s]\n"
     ]
    },
    {
     "name": "stdout",
     "output_type": "stream",
     "text": [
      "saved labels at: full_images_V2_R2\\upscaled_labels\\011-bmin_F1_upz_labels.tif\n"
     ]
    },
    {
     "name": "stderr",
     "output_type": "stream",
     "text": [
      "100%|████████████████████████████████████████████████████████████████████████████████| 338/338 [02:12<00:00,  2.55it/s]\n"
     ]
    },
    {
     "name": "stdout",
     "output_type": "stream",
     "text": [
      "saved labels at: full_images_V2_R2\\upscaled_labels\\012-bmin_F1_upz_labels.tif\n"
     ]
    },
    {
     "name": "stderr",
     "output_type": "stream",
     "text": [
      "100%|████████████████████████████████████████████████████████████████████████████████| 338/338 [02:12<00:00,  2.55it/s]\n"
     ]
    },
    {
     "name": "stdout",
     "output_type": "stream",
     "text": [
      "saved labels at: full_images_V2_R2\\upscaled_labels\\013-bmin_F1_upz_labels.tif\n"
     ]
    },
    {
     "name": "stderr",
     "output_type": "stream",
     "text": [
      "100%|████████████████████████████████████████████████████████████████████████████████| 338/338 [02:13<00:00,  2.53it/s]\n"
     ]
    },
    {
     "name": "stdout",
     "output_type": "stream",
     "text": [
      "saved labels at: full_images_V2_R2\\upscaled_labels\\014-bplu_F1_upz_labels.tif\n"
     ]
    },
    {
     "name": "stderr",
     "output_type": "stream",
     "text": [
      "100%|████████████████████████████████████████████████████████████████████████████████| 338/338 [02:13<00:00,  2.54it/s]\n"
     ]
    },
    {
     "name": "stdout",
     "output_type": "stream",
     "text": [
      "saved labels at: full_images_V2_R2\\upscaled_labels\\015-bmin_F1_upz_labels.tif\n"
     ]
    },
    {
     "name": "stderr",
     "output_type": "stream",
     "text": [
      "100%|████████████████████████████████████████████████████████████████████████████████| 338/338 [02:13<00:00,  2.54it/s]\n"
     ]
    },
    {
     "name": "stdout",
     "output_type": "stream",
     "text": [
      "saved labels at: full_images_V2_R2\\upscaled_labels\\016-bmin_F1_upz_labels.tif\n"
     ]
    },
    {
     "name": "stderr",
     "output_type": "stream",
     "text": [
      "100%|████████████████████████████████████████████████████████████████████████████████| 338/338 [02:23<00:00,  2.36it/s]\n"
     ]
    },
    {
     "name": "stdout",
     "output_type": "stream",
     "text": [
      "saved labels at: full_images_V2_R2\\upscaled_labels\\017-bplu_F1_upz_labels.tif\n"
     ]
    },
    {
     "name": "stderr",
     "output_type": "stream",
     "text": [
      "100%|████████████████████████████████████████████████████████████████████████████████| 338/338 [02:15<00:00,  2.50it/s]\n"
     ]
    },
    {
     "name": "stdout",
     "output_type": "stream",
     "text": [
      "saved labels at: full_images_V2_R2\\upscaled_labels\\101-bmin_F1_upz_labels.tif\n"
     ]
    },
    {
     "name": "stderr",
     "output_type": "stream",
     "text": [
      "100%|████████████████████████████████████████████████████████████████████████████████| 338/338 [02:14<00:00,  2.52it/s]\n"
     ]
    },
    {
     "name": "stdout",
     "output_type": "stream",
     "text": [
      "saved labels at: full_images_V2_R2\\upscaled_labels\\102-bplu_F1_upz_labels.tif\n"
     ]
    },
    {
     "name": "stderr",
     "output_type": "stream",
     "text": [
      "100%|████████████████████████████████████████████████████████████████████████████████| 338/338 [02:16<00:00,  2.48it/s]\n"
     ]
    },
    {
     "name": "stdout",
     "output_type": "stream",
     "text": [
      "saved labels at: full_images_V2_R2\\upscaled_labels\\103-bplu_F1_upz_labels.tif\n"
     ]
    },
    {
     "name": "stderr",
     "output_type": "stream",
     "text": [
      "100%|████████████████████████████████████████████████████████████████████████████████| 338/338 [02:15<00:00,  2.49it/s]\n"
     ]
    },
    {
     "name": "stdout",
     "output_type": "stream",
     "text": [
      "saved labels at: full_images_V2_R2\\upscaled_labels\\104-bmin_F1_upz_labels.tif\n"
     ]
    },
    {
     "name": "stderr",
     "output_type": "stream",
     "text": [
      "100%|████████████████████████████████████████████████████████████████████████████████| 338/338 [02:14<00:00,  2.52it/s]\n"
     ]
    },
    {
     "name": "stdout",
     "output_type": "stream",
     "text": [
      "saved labels at: full_images_V2_R2\\upscaled_labels\\105-bplu_F1_upz_labels.tif\n"
     ]
    },
    {
     "name": "stderr",
     "output_type": "stream",
     "text": [
      "100%|████████████████████████████████████████████████████████████████████████████████| 338/338 [02:15<00:00,  2.50it/s]\n"
     ]
    },
    {
     "name": "stdout",
     "output_type": "stream",
     "text": [
      "saved labels at: full_images_V2_R2\\upscaled_labels\\106-bmin_F1_upz_labels.tif\n"
     ]
    },
    {
     "name": "stderr",
     "output_type": "stream",
     "text": [
      "100%|████████████████████████████████████████████████████████████████████████████████| 338/338 [02:12<00:00,  2.54it/s]\n"
     ]
    },
    {
     "name": "stdout",
     "output_type": "stream",
     "text": [
      "saved labels at: full_images_V2_R2\\upscaled_labels\\107-bmin_F1_upz_labels.tif\n"
     ]
    },
    {
     "name": "stderr",
     "output_type": "stream",
     "text": [
      "100%|████████████████████████████████████████████████████████████████████████████████| 338/338 [02:14<00:00,  2.50it/s]\n"
     ]
    },
    {
     "name": "stdout",
     "output_type": "stream",
     "text": [
      "saved labels at: full_images_V2_R2\\upscaled_labels\\108-bplu_F1_upz_labels.tif\n"
     ]
    },
    {
     "name": "stderr",
     "output_type": "stream",
     "text": [
      "100%|████████████████████████████████████████████████████████████████████████████████| 338/338 [02:13<00:00,  2.53it/s]\n"
     ]
    },
    {
     "name": "stdout",
     "output_type": "stream",
     "text": [
      "saved labels at: full_images_V2_R2\\upscaled_labels\\109-bmin_F1_upz_labels.tif\n"
     ]
    },
    {
     "name": "stderr",
     "output_type": "stream",
     "text": [
      "100%|████████████████████████████████████████████████████████████████████████████████| 338/338 [02:16<00:00,  2.47it/s]\n"
     ]
    },
    {
     "name": "stdout",
     "output_type": "stream",
     "text": [
      "saved labels at: full_images_V2_R2\\upscaled_labels\\110-bplu_F1_upz_labels.tif\n"
     ]
    },
    {
     "name": "stderr",
     "output_type": "stream",
     "text": [
      "100%|████████████████████████████████████████████████████████████████████████████████| 338/338 [02:15<00:00,  2.49it/s]\n"
     ]
    },
    {
     "name": "stdout",
     "output_type": "stream",
     "text": [
      "saved labels at: full_images_V2_R2\\upscaled_labels\\111-bmin_F1_upz_labels.tif\n"
     ]
    },
    {
     "name": "stderr",
     "output_type": "stream",
     "text": [
      "100%|████████████████████████████████████████████████████████████████████████████████| 338/338 [02:17<00:00,  2.46it/s]\n"
     ]
    },
    {
     "name": "stdout",
     "output_type": "stream",
     "text": [
      "saved labels at: full_images_V2_R2\\upscaled_labels\\112-bplu_F1_upz_labels.tif\n"
     ]
    },
    {
     "name": "stderr",
     "output_type": "stream",
     "text": [
      "100%|████████████████████████████████████████████████████████████████████████████████| 338/338 [02:16<00:00,  2.48it/s]\n"
     ]
    },
    {
     "name": "stdout",
     "output_type": "stream",
     "text": [
      "saved labels at: full_images_V2_R2\\upscaled_labels\\113-bplu_F1_upz_labels.tif\n"
     ]
    },
    {
     "name": "stderr",
     "output_type": "stream",
     "text": [
      "100%|████████████████████████████████████████████████████████████████████████████████| 338/338 [02:16<00:00,  2.47it/s]\n"
     ]
    },
    {
     "name": "stdout",
     "output_type": "stream",
     "text": [
      "saved labels at: full_images_V2_R2\\upscaled_labels\\114-bplu_F1_upz_labels.tif\n"
     ]
    },
    {
     "name": "stderr",
     "output_type": "stream",
     "text": [
      "100%|████████████████████████████████████████████████████████████████████████████████| 338/338 [02:16<00:00,  2.48it/s]\n"
     ]
    },
    {
     "name": "stdout",
     "output_type": "stream",
     "text": [
      "saved labels at: full_images_V2_R2\\upscaled_labels\\115-bmin_F1_upz_labels.tif\n"
     ]
    },
    {
     "name": "stderr",
     "output_type": "stream",
     "text": [
      "100%|████████████████████████████████████████████████████████████████████████████████| 338/338 [02:16<00:00,  2.47it/s]\n"
     ]
    },
    {
     "name": "stdout",
     "output_type": "stream",
     "text": [
      "saved labels at: full_images_V2_R2\\upscaled_labels\\Capture 10_bminF2_01_upz_labels.tif\n"
     ]
    },
    {
     "name": "stderr",
     "output_type": "stream",
     "text": [
      "100%|████████████████████████████████████████████████████████████████████████████████| 338/338 [02:17<00:00,  2.46it/s]\n"
     ]
    },
    {
     "name": "stdout",
     "output_type": "stream",
     "text": [
      "saved labels at: full_images_V2_R2\\upscaled_labels\\Capture 1_bminF2_01_upz_labels.tif\n"
     ]
    },
    {
     "name": "stderr",
     "output_type": "stream",
     "text": [
      "100%|████████████████████████████████████████████████████████████████████████████████| 338/338 [02:16<00:00,  2.48it/s]\n"
     ]
    },
    {
     "name": "stdout",
     "output_type": "stream",
     "text": [
      "saved labels at: full_images_V2_R2\\upscaled_labels\\Capture 1_bminF2_02_upz_labels.tif\n"
     ]
    },
    {
     "name": "stderr",
     "output_type": "stream",
     "text": [
      "100%|████████████████████████████████████████████████████████████████████████████████| 338/338 [02:17<00:00,  2.45it/s]\n"
     ]
    },
    {
     "name": "stdout",
     "output_type": "stream",
     "text": [
      "saved labels at: full_images_V2_R2\\upscaled_labels\\Capture 1_bminF2_03_upz_labels.tif\n"
     ]
    },
    {
     "name": "stderr",
     "output_type": "stream",
     "text": [
      "100%|████████████████████████████████████████████████████████████████████████████████| 338/338 [02:17<00:00,  2.46it/s]\n"
     ]
    },
    {
     "name": "stdout",
     "output_type": "stream",
     "text": [
      "saved labels at: full_images_V2_R2\\upscaled_labels\\Capture 2_bminF2_01_upz_labels.tif\n"
     ]
    },
    {
     "name": "stderr",
     "output_type": "stream",
     "text": [
      "100%|████████████████████████████████████████████████████████████████████████████████| 338/338 [02:17<00:00,  2.46it/s]\n"
     ]
    },
    {
     "name": "stdout",
     "output_type": "stream",
     "text": [
      "saved labels at: full_images_V2_R2\\upscaled_labels\\Capture 2_bminF2_02_upz_labels.tif\n"
     ]
    },
    {
     "name": "stderr",
     "output_type": "stream",
     "text": [
      "100%|████████████████████████████████████████████████████████████████████████████████| 338/338 [02:18<00:00,  2.44it/s]\n"
     ]
    },
    {
     "name": "stdout",
     "output_type": "stream",
     "text": [
      "saved labels at: full_images_V2_R2\\upscaled_labels\\Capture 2_bminF2_03_upz_labels.tif\n"
     ]
    },
    {
     "name": "stderr",
     "output_type": "stream",
     "text": [
      "100%|████████████████████████████████████████████████████████████████████████████████| 338/338 [02:23<00:00,  2.35it/s]\n"
     ]
    },
    {
     "name": "stdout",
     "output_type": "stream",
     "text": [
      "saved labels at: full_images_V2_R2\\upscaled_labels\\Capture 3_bminF2_01_upz_labels.tif\n"
     ]
    },
    {
     "name": "stderr",
     "output_type": "stream",
     "text": [
      "100%|████████████████████████████████████████████████████████████████████████████████| 338/338 [02:18<00:00,  2.44it/s]\n"
     ]
    },
    {
     "name": "stdout",
     "output_type": "stream",
     "text": [
      "saved labels at: full_images_V2_R2\\upscaled_labels\\Capture 3_bminF2_02_upz_labels.tif\n"
     ]
    },
    {
     "name": "stderr",
     "output_type": "stream",
     "text": [
      "100%|████████████████████████████████████████████████████████████████████████████████| 338/338 [02:19<00:00,  2.43it/s]\n"
     ]
    },
    {
     "name": "stdout",
     "output_type": "stream",
     "text": [
      "saved labels at: full_images_V2_R2\\upscaled_labels\\Capture 3_bminF2_03_upz_labels.tif\n"
     ]
    },
    {
     "name": "stderr",
     "output_type": "stream",
     "text": [
      "100%|████████████████████████████████████████████████████████████████████████████████| 338/338 [02:17<00:00,  2.45it/s]\n"
     ]
    },
    {
     "name": "stdout",
     "output_type": "stream",
     "text": [
      "saved labels at: full_images_V2_R2\\upscaled_labels\\Capture 4_bminF2_01_upz_labels.tif\n"
     ]
    },
    {
     "name": "stderr",
     "output_type": "stream",
     "text": [
      "100%|████████████████████████████████████████████████████████████████████████████████| 338/338 [02:18<00:00,  2.45it/s]\n"
     ]
    },
    {
     "name": "stdout",
     "output_type": "stream",
     "text": [
      "saved labels at: full_images_V2_R2\\upscaled_labels\\Capture 4_bminF2_02_upz_labels.tif\n"
     ]
    },
    {
     "name": "stderr",
     "output_type": "stream",
     "text": [
      "100%|████████████████████████████████████████████████████████████████████████████████| 338/338 [02:25<00:00,  2.33it/s]\n"
     ]
    },
    {
     "name": "stdout",
     "output_type": "stream",
     "text": [
      "saved labels at: full_images_V2_R2\\upscaled_labels\\Capture 4_bminF2_03_upz_labels.tif\n"
     ]
    },
    {
     "name": "stderr",
     "output_type": "stream",
     "text": [
      "100%|████████████████████████████████████████████████████████████████████████████████| 338/338 [02:25<00:00,  2.32it/s]\n"
     ]
    },
    {
     "name": "stdout",
     "output_type": "stream",
     "text": [
      "saved labels at: full_images_V2_R2\\upscaled_labels\\Capture 5_bminF2_01_upz_labels.tif\n"
     ]
    },
    {
     "name": "stderr",
     "output_type": "stream",
     "text": [
      "100%|████████████████████████████████████████████████████████████████████████████████| 338/338 [02:24<00:00,  2.33it/s]\n"
     ]
    },
    {
     "name": "stdout",
     "output_type": "stream",
     "text": [
      "saved labels at: full_images_V2_R2\\upscaled_labels\\Capture 5_bminF2_02_upz_labels.tif\n"
     ]
    },
    {
     "name": "stderr",
     "output_type": "stream",
     "text": [
      "100%|████████████████████████████████████████████████████████████████████████████████| 338/338 [02:20<00:00,  2.41it/s]\n"
     ]
    },
    {
     "name": "stdout",
     "output_type": "stream",
     "text": [
      "saved labels at: full_images_V2_R2\\upscaled_labels\\Capture 5_bminF2_03_upz_labels.tif\n"
     ]
    },
    {
     "name": "stderr",
     "output_type": "stream",
     "text": [
      "100%|████████████████████████████████████████████████████████████████████████████████| 338/338 [02:21<00:00,  2.39it/s]\n"
     ]
    },
    {
     "name": "stdout",
     "output_type": "stream",
     "text": [
      "saved labels at: full_images_V2_R2\\upscaled_labels\\Capture 6_bminF2_01_upz_labels.tif\n"
     ]
    },
    {
     "name": "stderr",
     "output_type": "stream",
     "text": [
      "100%|████████████████████████████████████████████████████████████████████████████████| 338/338 [02:22<00:00,  2.37it/s]\n"
     ]
    },
    {
     "name": "stdout",
     "output_type": "stream",
     "text": [
      "saved labels at: full_images_V2_R2\\upscaled_labels\\Capture 6_bminF2_02_upz_labels.tif\n"
     ]
    },
    {
     "name": "stderr",
     "output_type": "stream",
     "text": [
      "100%|████████████████████████████████████████████████████████████████████████████████| 338/338 [02:20<00:00,  2.40it/s]\n"
     ]
    },
    {
     "name": "stdout",
     "output_type": "stream",
     "text": [
      "saved labels at: full_images_V2_R2\\upscaled_labels\\Capture 7_bminF2_01_upz_labels.tif\n"
     ]
    },
    {
     "name": "stderr",
     "output_type": "stream",
     "text": [
      "100%|████████████████████████████████████████████████████████████████████████████████| 338/338 [02:21<00:00,  2.38it/s]\n"
     ]
    },
    {
     "name": "stdout",
     "output_type": "stream",
     "text": [
      "saved labels at: full_images_V2_R2\\upscaled_labels\\Capture 8_bminF2_01_upz_labels.tif\n"
     ]
    },
    {
     "name": "stderr",
     "output_type": "stream",
     "text": [
      "100%|████████████████████████████████████████████████████████████████████████████████| 338/338 [02:21<00:00,  2.39it/s]\n"
     ]
    },
    {
     "name": "stdout",
     "output_type": "stream",
     "text": [
      "saved labels at: full_images_V2_R2\\upscaled_labels\\Capture 9_bminF2_01_upz_labels.tif\n"
     ]
    }
   ],
   "source": [
    "from __future__ import print_function, unicode_literals, absolute_import, division\n",
    "import sys\n",
    "import numpy as np\n",
    "import pickle\n",
    "\n",
    "from glob import glob\n",
    "from tifffile import imread\n",
    "from csbdeep.utils import Path, normalize\n",
    "from csbdeep.io import save_tiff_imagej_compatible\n",
    "\n",
    "from stardist.models import StarDist3D\n",
    "\n",
    "files = sorted(glob('full_images_V2_R2/upscaled_tifs/*.tif'))\n",
    "files = [f for f in files if not (upsc_labels_dir/f'{Path(f).stem}_labels.tif').is_file()]    \n",
    "file_stems = [Path(f).stem for f in files]\n",
    "print(file_stems)\n",
    "\n",
    "model = StarDist3D(None, name='stardist_V2_isotropic', basedir='models_V2')\n",
    "\n",
    "for i in range(len(files)):\n",
    "    X = imread(files[i])\n",
    "\n",
    "    n_channel = 1 if X.ndim == 3 else X.shape[-1]\n",
    "    axis_norm = (0,1,2)   # normalize channels independently\n",
    "\n",
    "    image_normalized = normalize(X, 1,99.8, axis=axis_norm)\n",
    "\n",
    "    n_tiles = model._guess_n_tiles(image_normalized)\n",
    "\n",
    "    labels, details = model.predict_instances(image_normalized, axes='ZYX', n_tiles=n_tiles)\n",
    "    \n",
    "    save_labels_path = upsc_labels_dir/f'{file_stems[i]}_labels.tif'\n",
    "    save_tiff_imagej_compatible(save_labels_path, labels, axes='ZYX')\n",
    "    print(f\"saved labels at: {save_labels_path}\")\n",
    "    \n",
    "    save_details_path = upsc_labels_dir/f'{file_stems[i]}_details.pkl'\n",
    "    with open(save_details_path, 'wb') as f:\n",
    "        pickle.dump(details, f)"
   ]
  },
  {
   "cell_type": "markdown",
   "id": "e92e5275",
   "metadata": {},
   "source": [
    "### c. Downscale labels predicted by isotropic StarDist model"
   ]
  },
  {
   "cell_type": "code",
   "execution_count": 2,
   "id": "f6a52683",
   "metadata": {},
   "outputs": [
    {
     "name": "stdout",
     "output_type": "stream",
     "text": [
      " downscaling 001-bmin_F1_upz_labels\n",
      " downscaling 002-bmin_F1_upz_labels\n",
      " downscaling 003-bplu_F1_upz_labels\n",
      " downscaling 004-bplu_F1_upz_labels\n",
      " downscaling 005-bplu_F1_upz_labels\n",
      " downscaling 006-bplu_F1_upz_labels\n",
      " downscaling 007-bmin_F1_upz_labels\n",
      " downscaling 008-bplu_F1_upz_labels\n",
      " downscaling 009-bplu_F1_upz_labels\n",
      " downscaling 010-bplu_F1_upz_labels\n",
      " downscaling 011-bmin_F1_upz_labels\n",
      " downscaling 012-bmin_F1_upz_labels\n",
      " downscaling 013-bmin_F1_upz_labels\n",
      " downscaling 014-bplu_F1_upz_labels\n",
      " downscaling 015-bmin_F1_upz_labels\n",
      " downscaling 016-bmin_F1_upz_labels\n",
      " downscaling 017-bplu_F1_upz_labels\n",
      " downscaling 101-bmin_F1_upz_labels\n",
      " downscaling 102-bplu_F1_upz_labels\n",
      " downscaling 103-bplu_F1_upz_labels\n",
      " downscaling 104-bmin_F1_upz_labels\n",
      " downscaling 105-bplu_F1_upz_labels\n",
      " downscaling 106-bmin_F1_upz_labels\n",
      " downscaling 107-bmin_F1_upz_labels\n",
      " downscaling 108-bplu_F1_upz_labels\n",
      " downscaling 109-bmin_F1_upz_labels\n",
      " downscaling 110-bplu_F1_upz_labels\n",
      " downscaling 111-bmin_F1_upz_labels\n",
      " downscaling 112-bplu_F1_upz_labels\n",
      " downscaling 113-bplu_F1_upz_labels\n",
      " downscaling 114-bplu_F1_upz_labels\n",
      " downscaling 115-bmin_F1_upz_labels\n",
      " downscaling Capture 10_bminF2_01_upz_labels\n",
      " downscaling Capture 1_bminF2_01_upz_labels\n",
      " downscaling Capture 1_bminF2_02_upz_labels\n",
      " downscaling Capture 1_bminF2_03_upz_labels\n",
      " downscaling Capture 2_bminF2_01_upz_labels\n",
      " downscaling Capture 2_bminF2_02_upz_labels\n",
      " downscaling Capture 2_bminF2_03_upz_labels\n",
      " downscaling Capture 3_bminF2_01_upz_labels\n",
      " downscaling Capture 3_bminF2_02_upz_labels\n",
      " downscaling Capture 3_bminF2_03_upz_labels\n",
      " downscaling Capture 4_bminF2_01_upz_labels\n",
      " downscaling Capture 4_bminF2_02_upz_labels\n",
      " downscaling Capture 4_bminF2_03_upz_labels\n",
      " downscaling Capture 5_bminF2_01_upz_labels\n",
      " downscaling Capture 5_bminF2_02_upz_labels\n",
      " downscaling Capture 5_bminF2_03_upz_labels\n",
      " downscaling Capture 6_bminF2_01_upz_labels\n",
      " downscaling Capture 6_bminF2_02_upz_labels\n",
      " downscaling Capture 7_bminF2_01_upz_labels\n",
      " downscaling Capture 8_bminF2_01_upz_labels\n",
      " downscaling Capture 9_bminF2_01_upz_labels\n"
     ]
    }
   ],
   "source": [
    "from pathlib import Path\n",
    "label_path_list = [file for file in upsc_labels_dir.iterdir() if file.suffix == '.tif']\n",
    "\n",
    "for label_path in label_path_list:\n",
    "          \n",
    "    image_id = label_path.stem\n",
    "    unup_lab_path = unup_labels_dir/f'{image_id}.tif'\n",
    "    \n",
    "    if unup_lab_path.is_file():\n",
    "        print(f'{image_id} labels already un-upscaled')\n",
    "        continue\n",
    "    \n",
    "    print(f' downscaling {image_id}')\n",
    "    \n",
    "#     upsc_lab_path = upsc_labels_dir/f'{image_id}.tif'\n",
    "    upsc_lab = imread(label_path)\n",
    "\n",
    "    z,y,x = upsc_lab.shape \n",
    "    scaled_shape = (z/2, y, x)\n",
    "    \n",
    "    unup_lab = resize(upsc_lab, scaled_shape, order = 0, anti_aliasing = False)\n",
    "    imwrite(unup_lab_path, unup_lab)"
   ]
  },
  {
   "cell_type": "markdown",
   "id": "27b8faf6",
   "metadata": {},
   "source": [
    "## 2. correct segmentations and classify nuclei by cell type\n",
    "\n",
    "- load images and labels in napari\n",
    "- manually correct any bad segmentations\n",
    "- measure intensity with `napari_simpleitk_image_processing.label_statistics`\n",
    "    - check if roi overlaps with border to exclude partial rois\n",
    "    - need number of pixels and total intensity to do background subtraction\n",
    "- create new label images to classify cells by cell type\n",
    "    - intestine labeled with int ring == label (i.e. int1 gets 1...)\n",
    "    - pachytene labeled with 1\n",
    "- classify any labels that overlap with classifier image as cell type\n",
    "    - save these labels as a dictionary\n",
    "    - convert dictionary into data frame\n",
    "- save corrected nuclei labels, classifier images, measurements, and rois\n",
    "- concatenate data from all images and join measurements to rois"
   ]
  },
  {
   "cell_type": "code",
   "execution_count": null,
   "id": "186da152",
   "metadata": {},
   "outputs": [
    {
     "name": "stdout",
     "output_type": "stream",
     "text": [
      "240129_balminF2_079 already measured. skipping\n",
      "240129_balminF2_080 already measured. skipping\n",
      "240129_balminF2_082 already measured. skipping\n",
      "240129_balminF2_083 already measured. skipping\n",
      "240129_balminF2_084 already measured. skipping\n",
      "240129_balminF2_085 already measured. skipping\n",
      "240129_balmin_009 already measured. skipping\n",
      "240129_balmin_018 already measured. skipping\n",
      "240129_balmin_019 already measured. skipping\n",
      "240129_balmin_022 already measured. skipping\n",
      "240129_balmin_041 already measured. skipping\n",
      "240129_balmin_047 already measured. skipping\n",
      "240129_balmin_053 already measured. skipping\n",
      " processing 240129_balmin_055\n",
      "Assistant skips harvesting pyclesperanto as it's not installed.\n",
      " processing 240129_balmin_059\n",
      " processing 240129_balmin_063\n",
      " processing 240129_balmin_064\n",
      " processing 240129_balmin_065\n",
      " processing 240129_balmin_066\n",
      "240129_balmin_123 already measured. skipping\n",
      "240129_balmin_223 already measured. skipping\n",
      "240129_balplus_004 already measured. skipping\n",
      "240129_balplus_011 already measured. skipping\n",
      "240129_balplus_014 already measured. skipping\n",
      "240129_balplus_015 already measured. skipping\n",
      " processing 240129_balplus_021\n",
      " processing 240129_balplus_024\n",
      " processing 240129_balplus_026\n",
      " processing 240129_balplus_031\n"
     ]
    }
   ],
   "source": [
    "import napari\n",
    "from copy import copy\n",
    "from napari_simpleitk_image_processing import label_statistics\n",
    "\n",
    "def list_overlapping_labels(labels, overlap_labels, i):\n",
    "    # returns list of unique labels from `labels` that have any overlap with `overlap_labels`\n",
    "    mask = overlap_labels == i\n",
    "    masked_labels = labels * mask\n",
    "    list_of_labels = np.unique(masked_labels)\n",
    "    return list_of_labels\n",
    "\n",
    "for image_path in image_path_list:\n",
    "    \n",
    "    # get image id and define file paths\n",
    "    image_id = image_path.stem\n",
    "    orig_label_path = unup_labels_dir/f'{image_id}_upz_labels.tif'\n",
    "    corr_label_path = data_dir/'corrected_labels'/f'{image_id}_corrected_labels.tif'\n",
    "    measure_csv_path = data_dir/'csvs'/'measurements'/f'{image_id}_measurements.csv'\n",
    "    rois_csv_path = data_dir/'csvs'/'rois'/f'{image_id}_rois.csv'\n",
    "\n",
    "    \n",
    "    # skip images without labels or that have already been measured\n",
    "    if not orig_label_path.is_file():\n",
    "        print(f'{image_id} does not have labels. skipping')\n",
    "        continue\n",
    "    \n",
    "    if measure_csv_path.is_file():\n",
    "        print(f'{image_id} already measured. skipping')\n",
    "        continue\n",
    "    \n",
    "    print(f' processing {image_id}')\n",
    "    \n",
    "    # read image and labels\n",
    "    im = imread(image_path)\n",
    "    init_labels = imread(orig_label_path)\n",
    "    out_labels = copy(init_labels)\n",
    "    \n",
    "    # initialize class labels\n",
    "    classes_dict = {}\n",
    "    for tissue in ['intestine', 'germline']:\n",
    "        classes_dict[tissue] = np.zeros(shape = out_labels.shape, dtype = 'uint8')\n",
    "    \n",
    "    # view images in napari\n",
    "    viewer = napari.Viewer()\n",
    "    viewer.add_image(im, contrast_limits = [0, 0.7 * int(np.max(im))])\n",
    "    labs = viewer.add_labels(out_labels, opacity = 0.5)\n",
    "    for key, class_image in classes_dict.items():\n",
    "        viewer.add_labels(class_image, name = key)\n",
    "        # label int nuclei with number according to int ring\n",
    "        # labels tetraploid pachytene nuclei with 1\n",
    "    \n",
    "    # functions to make editing labels easier\n",
    "    @viewer.bind_key('z')\n",
    "    def decrease_z_position(viewer):\n",
    "        current_z_slice = viewer.dims.point[0]\n",
    "        viewer.dims.set_point(axis = 0, value = current_z_slice - 1)\n",
    "    \n",
    "    @viewer.bind_key('x')\n",
    "    def increase_z_position(viewer):\n",
    "        current_z_slice = viewer.dims.point[0]\n",
    "        viewer.dims.set_point(axis = 0, value = current_z_slice + 1)\n",
    "        \n",
    "    @viewer.bind_key('e')\n",
    "    def erase_label_3D(viewer):\n",
    "        labs.n_edit_dimensions = 3\n",
    "        labs.mode = 'fill'\n",
    "        labs.selected_label = 0\n",
    "    \n",
    "    @viewer.bind_key('d') \n",
    "    def draw_label_bounds(viewer):\n",
    "        labs.n_edit_dimensions = 2\n",
    "        labs.mode = 'paint'\n",
    "        labs.brush_size = 7\n",
    "    \n",
    "    # prevent loop from advancing until viewer is closed\n",
    "    viewer.show(block=True) \n",
    "    \n",
    "    # save corrected labels and measurements\n",
    "    imwrite(corr_label_path, out_labels)\n",
    "    measure_df = pd.DataFrame(label_statistics(im, out_labels, position=True))\n",
    "    measure_df['image'] = image_id\n",
    "    measure_df.to_csv(measure_csv_path)\n",
    "    \n",
    "    # create dictionary of labels that are in either intestine or pachytene\n",
    "    roi_dict = {}\n",
    "    for tissue, class_image in classes_dict.items():     \n",
    "        # save class labels\n",
    "        file_name = f'{image_id}_{tissue}.tif'\n",
    "        file_path = data_dir/'class_labels'/file_name\n",
    "        imwrite(file_path, class_image)\n",
    "        \n",
    "        # list nucleus labels that overlap with class label\n",
    "        valid_classes = [c for c in np.unique(class_image) if c>0]\n",
    "        for c in valid_classes:\n",
    "            list_of_labels = list_overlapping_labels(out_labels, class_image, c)\n",
    "            roi_dict[(tissue, c)] = list_of_labels\n",
    "    \n",
    "    # convert dictionary to df and save as csv\n",
    "    lab_df = pd.Series(roi_dict).rename_axis(['tissue', 'sub_tissue']).reset_index(name='label').explode('label')\n",
    "    lab_df['image'] = image_id\n",
    "    lab_df.to_csv(rois_csv_path)\n"
   ]
  },
  {
   "cell_type": "code",
   "execution_count": null,
   "id": "41be475f",
   "metadata": {},
   "outputs": [],
   "source": [
    "### concatenate rois and measurements from all images\n",
    "measurements_df = concat_csvs(csv_dir/'measurements')\n",
    "rois_df = concat_csvs(csv_dir/'rois')\n",
    "merged_df = rois_df.merge(measurements_df, on = ['label', 'image'])\n",
    "\n",
    "measurements_df.to_csv(csv_dir/'combined_measurements.csv', index = False)\n",
    "rois_df.to_csv(csv_dir/'combined_rois.csv', index = False)\n",
    "merged_df.to_csv(csv_dir/'Exp042_raw_ploidy.csv', index = False)"
   ]
  },
  {
   "cell_type": "markdown",
   "id": "2ece22ef",
   "metadata": {},
   "source": [
    "## 3. Expand germline labels and re-quantify ploidy\n",
    "Raw ploidy measurements from **2** estimate fractional ploidies slightly above expected 2^n values. One explanation is that I'm not fully capturing the signal from each germline nucleus, leading to too low of a normalization value. This can be solved by expanding the germline labels by 1 or 2 pixels to capture all signal."
   ]
  },
  {
   "cell_type": "code",
   "execution_count": 5,
   "id": "de546a51",
   "metadata": {},
   "outputs": [
    {
     "name": "stdout",
     "output_type": "stream",
     "text": [
      "240129_balminF2_079 already expanded and measured. skipping\n",
      " processing 240129_balminF2_080\n",
      " processing 240129_balminF2_082\n",
      " processing 240129_balminF2_083\n",
      " processing 240129_balminF2_084\n",
      " processing 240129_balminF2_085\n",
      " processing 240129_balmin_009\n",
      " processing 240129_balmin_018\n",
      " processing 240129_balmin_019\n",
      " processing 240129_balmin_022\n",
      " processing 240129_balmin_041\n",
      " processing 240129_balmin_047\n",
      " processing 240129_balmin_053\n",
      " processing 240129_balmin_055\n",
      " processing 240129_balmin_059\n",
      " processing 240129_balmin_063\n",
      " processing 240129_balmin_064\n",
      " processing 240129_balmin_065\n",
      " processing 240129_balmin_066\n",
      " processing 240129_balmin_123\n",
      " processing 240129_balmin_223\n",
      " processing 240129_balplus_004\n",
      " processing 240129_balplus_011\n",
      " processing 240129_balplus_014\n",
      " processing 240129_balplus_015\n",
      " processing 240129_balplus_021\n",
      " processing 240129_balplus_024\n",
      " processing 240129_balplus_026\n",
      "240129_balplus_031 does not have corrected labels. skipping\n",
      "240129_balplus_034 does not have corrected labels. skipping\n",
      "240129_balplus_035 does not have corrected labels. skipping\n",
      "240129_balplus_036 does not have corrected labels. skipping\n",
      " processing 240129_balplus_037\n",
      "240129_balplus_054 does not have corrected labels. skipping\n",
      "240129_balplus_056 does not have corrected labels. skipping\n",
      "240129_balplus_062 does not have corrected labels. skipping\n",
      " processing 240129_balplus_104\n"
     ]
    }
   ],
   "source": [
    "from napari_simpleitk_image_processing import label_statistics\n",
    "from skimage.segmentation import expand_labels\n",
    "\n",
    "for image_path in image_path_list:\n",
    "\n",
    "    # get image id and define file paths\n",
    "    image_id = image_path.stem\n",
    "    corr_label_path = data_dir/'corrected_labels'/f'{image_id}_corrected_labels.tif'\n",
    "    exp_label_path = data_dir/'expanded2_corrected_labels'/f'{image_id}_expanded_corrected_labels.tif'\n",
    "    exp_measure_csv_path = data_dir/'csvs'/'expanded2_measurements'/f'{image_id}_expanded_measurements.csv'\n",
    "\n",
    "    # skip images without labels or that already have expanded labels\n",
    "    if not corr_label_path.is_file():\n",
    "        print(f'{image_id} does not have corrected labels. skipping')\n",
    "        continue\n",
    "    \n",
    "    if exp_label_path.is_file():\n",
    "        print(f'{image_id} already expanded and measured. skipping')\n",
    "        continue\n",
    "    \n",
    "    print(f' processing {image_id}')\n",
    "    \n",
    "    # read image and labels\n",
    "    im = imread(image_path)\n",
    "    corr_labels = imread(corr_label_path)\n",
    "    exp_labels = expand_labels(corr_labels, distance = 2)\n",
    "    \n",
    "    # save expanded labels and measurements\n",
    "    imwrite(exp_label_path, exp_labels)\n",
    "    measure_df = pd.DataFrame(label_statistics(im, exp_labels, position=True))\n",
    "    measure_df['image'] = image_id\n",
    "    measure_df.to_csv(exp_measure_csv_path)\n",
    "\n",
    "# concatenate rois and expanded measurements from all images\n",
    "exp_measurements_df = concat_csvs(csv_dir/'expanded2_measurements')\n",
    "rois_df = concat_csvs(csv_dir/'rois')\n",
    "exp_merged_df = rois_df.merge(exp_measurements_df, on = ['label', 'image'])\n",
    "\n",
    "exp_measurements_df.to_csv(csv_dir/'combined_expanded2_measurements.csv', index = False)\n",
    "exp_merged_df.to_csv(csv_dir/'Exp042_raw_ploidy_expanded2.csv', index = False)"
   ]
  },
  {
   "cell_type": "code",
   "execution_count": 3,
   "id": "72995013",
   "metadata": {},
   "outputs": [
    {
     "name": "stdout",
     "output_type": "stream",
     "text": [
      " processing 240129_balminF2_079\n",
      " processing 240129_balminF2_080\n",
      " processing 240129_balminF2_082\n",
      " processing 240129_balminF2_083\n",
      " processing 240129_balminF2_084\n",
      " processing 240129_balminF2_085\n",
      " processing 240129_balmin_009\n",
      " processing 240129_balmin_018\n",
      " processing 240129_balmin_019\n",
      " processing 240129_balmin_022\n",
      " processing 240129_balmin_041\n",
      " processing 240129_balmin_047\n",
      " processing 240129_balmin_053\n",
      " processing 240129_balmin_055\n",
      " processing 240129_balmin_059\n",
      " processing 240129_balmin_063\n",
      " processing 240129_balmin_064\n",
      " processing 240129_balmin_065\n",
      " processing 240129_balmin_066\n",
      " processing 240129_balmin_123\n",
      " processing 240129_balmin_223\n",
      " processing 240129_balplus_004\n",
      " processing 240129_balplus_011\n",
      " processing 240129_balplus_014\n",
      " processing 240129_balplus_015\n",
      " processing 240129_balplus_021\n",
      " processing 240129_balplus_024\n",
      " processing 240129_balplus_026\n",
      "240129_balplus_031 does not have corrected labels. skipping\n",
      "240129_balplus_034 does not have corrected labels. skipping\n",
      "240129_balplus_035 does not have corrected labels. skipping\n",
      "240129_balplus_036 does not have corrected labels. skipping\n",
      " processing 240129_balplus_037\n",
      "240129_balplus_054 does not have corrected labels. skipping\n",
      "240129_balplus_056 does not have corrected labels. skipping\n",
      "240129_balplus_062 does not have corrected labels. skipping\n",
      " processing 240129_balplus_104\n"
     ]
    }
   ],
   "source": [
    "from napari_simpleitk_image_processing import label_statistics\n",
    "from skimage.segmentation import expand_labels\n",
    "\n",
    "for image_path in image_path_list:\n",
    "\n",
    "    # get image id and define file paths\n",
    "    image_id = image_path.stem\n",
    "    corr_label_path = data_dir/'corrected_labels'/f'{image_id}_corrected_labels.tif'\n",
    "    exp_label_path = data_dir/'expanded1_corrected_labels'/f'{image_id}_expanded_corrected_labels.tif'\n",
    "    exp_measure_csv_path = data_dir/'csvs'/'expanded1_measurements'/f'{image_id}_expanded_measurements.csv'\n",
    "\n",
    "    # skip images without labels or that already have expanded labels\n",
    "    if not corr_label_path.is_file():\n",
    "        print(f'{image_id} does not have corrected labels. skipping')\n",
    "        continue\n",
    "    \n",
    "    if exp_label_path.is_file():\n",
    "        print(f'{image_id} already expanded and measured. skipping')\n",
    "        continue\n",
    "    \n",
    "    print(f' processing {image_id}')\n",
    "    \n",
    "    # read image and labels\n",
    "    im = imread(image_path)\n",
    "    corr_labels = imread(corr_label_path)\n",
    "    exp_labels = expand_labels(corr_labels, distance = 1)\n",
    "    \n",
    "    # save expanded labels and measurements\n",
    "    imwrite(exp_label_path, exp_labels)\n",
    "    measure_df = pd.DataFrame(label_statistics(im, exp_labels, position=True))\n",
    "    measure_df['image'] = image_id\n",
    "    measure_df.to_csv(exp_measure_csv_path)\n",
    "\n",
    "# concatenate rois and expanded measurements from all images\n",
    "exp_measurements_df = concat_csvs(csv_dir/'expanded1_measurements')\n",
    "rois_df = concat_csvs(csv_dir/'rois')\n",
    "exp_merged_df = rois_df.merge(exp_measurements_df, on = ['label', 'image'])\n",
    "\n",
    "exp_measurements_df.to_csv(csv_dir/'combined_expanded1_measurements.csv', index = False)\n",
    "exp_merged_df.to_csv(csv_dir/'Exp042_raw_ploidy_expanded1.csv', index = False)"
   ]
  },
  {
   "cell_type": "code",
   "execution_count": 4,
   "id": "420584f3",
   "metadata": {},
   "outputs": [
    {
     "name": "stdout",
     "output_type": "stream",
     "text": [
      "Assistant skips harvesting pyclesperanto as it's not installed.\n"
     ]
    },
    {
     "data": {
      "text/plain": [
       "<Labels layer 'exp_labels' at 0x12cbba6d0>"
      ]
     },
     "execution_count": 4,
     "metadata": {},
     "output_type": "execute_result"
    }
   ],
   "source": [
    "### check that expanded labels look reasonable\n",
    "import napari\n",
    "viewer = napari.Viewer()\n",
    "viewer.add_image(im, contrast_limits = [0, 0.7 * int(np.max(im))])\n",
    "viewer.add_labels(corr_labels, opacity = 0.4)\n",
    "viewer.add_labels(exp_labels, opacity = 0.4)"
   ]
  },
  {
   "cell_type": "code",
   "execution_count": null,
   "id": "d182ec21",
   "metadata": {},
   "outputs": [],
   "source": []
  }
 ],
 "metadata": {
  "kernelspec": {
   "display_name": "Python 3 (ipykernel)",
   "language": "python",
   "name": "python3"
  },
  "language_info": {
   "codemirror_mode": {
    "name": "ipython",
    "version": 3
   },
   "file_extension": ".py",
   "mimetype": "text/x-python",
   "name": "python",
   "nbconvert_exporter": "python",
   "pygments_lexer": "ipython3",
   "version": "3.9.15"
  }
 },
 "nbformat": 4,
 "nbformat_minor": 5
}
